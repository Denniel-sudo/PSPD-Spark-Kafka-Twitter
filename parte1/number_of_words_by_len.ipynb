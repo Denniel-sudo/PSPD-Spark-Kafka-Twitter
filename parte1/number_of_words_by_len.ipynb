{
 "cells": [
  {
   "cell_type": "code",
   "execution_count": 1,
   "id": "f509dd5b",
   "metadata": {},
   "outputs": [
    {
     "name": "stdout",
     "output_type": "stream",
     "text": [
      "Defaulting to user installation because normal site-packages is not writeable\n",
      "Requirement already satisfied: pyspark in /usr/local/spark/python (3.1.1)\n",
      "Requirement already satisfied: wordcloud in /home/denni/.local/lib/python3.10/site-packages (1.8.2.2)\n",
      "Requirement already satisfied: matplotlib in /home/denni/.local/lib/python3.10/site-packages (3.5.3)\n",
      "Requirement already satisfied: numpy in /home/denni/.local/lib/python3.10/site-packages (1.23.3)\n",
      "Requirement already satisfied: py4j==0.10.9 in /home/denni/.local/lib/python3.10/site-packages (from pyspark) (0.10.9)\n",
      "Requirement already satisfied: pillow in /usr/lib/python3/dist-packages (from wordcloud) (9.0.1)\n",
      "Requirement already satisfied: pyparsing>=2.2.1 in /usr/lib/python3/dist-packages (from matplotlib) (2.4.7)\n",
      "Requirement already satisfied: cycler>=0.10 in /home/denni/.local/lib/python3.10/site-packages (from matplotlib) (0.11.0)\n",
      "Requirement already satisfied: kiwisolver>=1.0.1 in /home/denni/.local/lib/python3.10/site-packages (from matplotlib) (1.4.4)\n",
      "Requirement already satisfied: python-dateutil>=2.7 in /usr/local/lib/python3.10/dist-packages (from matplotlib) (2.8.2)\n",
      "Requirement already satisfied: fonttools>=4.22.0 in /home/denni/.local/lib/python3.10/site-packages (from matplotlib) (4.37.1)\n",
      "Requirement already satisfied: packaging>=20.0 in /usr/local/lib/python3.10/dist-packages (from matplotlib) (21.3)\n",
      "Requirement already satisfied: six>=1.5 in /usr/lib/python3/dist-packages (from python-dateutil>=2.7->matplotlib) (1.16.0)\n"
     ]
    }
   ],
   "source": [
    "!pip3 install pyspark wordcloud matplotlib numpy"
   ]
  },
  {
   "cell_type": "code",
   "execution_count": 2,
   "id": "35a26f63",
   "metadata": {},
   "outputs": [],
   "source": [
    "import os\n",
    "os.environ['PYSPARK_SUBMIT_ARGS'] = '--packages org.apache.spark:spark-streaming-kafka-0-10_2.12:3.1.1,org.apache.spark:spark-sql-kafka-0-10_2.12:3.1.1 pyspark-shell'"
   ]
  },
  {
   "cell_type": "code",
   "execution_count": 3,
   "id": "5943d24a",
   "metadata": {},
   "outputs": [],
   "source": [
    "from pyspark.sql import SparkSession\n",
    "from pyspark.sql.types import MapType, StringType, IntegerType, ArrayType, StructType, \\\n",
    "                              StructField, LongType, DoubleType, BooleanType, FloatType, BinaryType, TimestampType\n",
    "from pyspark.sql.functions import *\n",
    "import pyspark\n",
    "\n",
    "from IPython.display import display, clear_output\n",
    "import time\n",
    "from wordcloud import WordCloud, STOPWORDS\n",
    "\n",
    "from time import sleep\n",
    "import matplotlib\n",
    "import matplotlib.pyplot as plt\n",
    "import numpy as np"
   ]
  },
  {
   "cell_type": "code",
   "execution_count": 4,
   "id": "cbf14f93",
   "metadata": {},
   "outputs": [
    {
     "name": "stdout",
     "output_type": "stream",
     "text": [
      ":: loading settings :: url = jar:file:/usr/local/spark/jars/ivy-2.4.0.jar!/org/apache/ivy/core/settings/ivysettings.xml\n"
     ]
    },
    {
     "name": "stderr",
     "output_type": "stream",
     "text": [
      "Ivy Default Cache set to: /home/denni/.ivy2/cache\n",
      "The jars for the packages stored in: /home/denni/.ivy2/jars\n",
      "org.apache.spark#spark-streaming-kafka-0-10_2.12 added as a dependency\n",
      "org.apache.spark#spark-sql-kafka-0-10_2.12 added as a dependency\n",
      ":: resolving dependencies :: org.apache.spark#spark-submit-parent-7557a7a2-7c3c-478a-afe8-d0b8f3a57ce2;1.0\n",
      "\tconfs: [default]\n",
      "\tfound org.apache.spark#spark-streaming-kafka-0-10_2.12;3.1.1 in central\n",
      "\tfound org.apache.spark#spark-token-provider-kafka-0-10_2.12;3.1.1 in central\n",
      "\tfound org.apache.kafka#kafka-clients;2.6.0 in central\n",
      "\tfound com.github.luben#zstd-jni;1.4.8-1 in central\n",
      "\tfound org.lz4#lz4-java;1.7.1 in central\n",
      "\tfound org.xerial.snappy#snappy-java;1.1.8.2 in central\n",
      "\tfound org.slf4j#slf4j-api;1.7.30 in central\n",
      "\tfound org.spark-project.spark#unused;1.0.0 in central\n",
      "\tfound org.apache.spark#spark-sql-kafka-0-10_2.12;3.1.1 in central\n",
      "\tfound org.apache.commons#commons-pool2;2.6.2 in central\n",
      ":: resolution report :: resolve 726ms :: artifacts dl 8ms\n",
      "\t:: modules in use:\n",
      "\tcom.github.luben#zstd-jni;1.4.8-1 from central in [default]\n",
      "\torg.apache.commons#commons-pool2;2.6.2 from central in [default]\n",
      "\torg.apache.kafka#kafka-clients;2.6.0 from central in [default]\n",
      "\torg.apache.spark#spark-sql-kafka-0-10_2.12;3.1.1 from central in [default]\n",
      "\torg.apache.spark#spark-streaming-kafka-0-10_2.12;3.1.1 from central in [default]\n",
      "\torg.apache.spark#spark-token-provider-kafka-0-10_2.12;3.1.1 from central in [default]\n",
      "\torg.lz4#lz4-java;1.7.1 from central in [default]\n",
      "\torg.slf4j#slf4j-api;1.7.30 from central in [default]\n",
      "\torg.spark-project.spark#unused;1.0.0 from central in [default]\n",
      "\torg.xerial.snappy#snappy-java;1.1.8.2 from central in [default]\n",
      "\t---------------------------------------------------------------------\n",
      "\t|                  |            modules            ||   artifacts   |\n",
      "\t|       conf       | number| search|dwnlded|evicted|| number|dwnlded|\n",
      "\t---------------------------------------------------------------------\n",
      "\t|      default     |   10  |   0   |   0   |   0   ||   10  |   0   |\n",
      "\t---------------------------------------------------------------------\n",
      ":: retrieving :: org.apache.spark#spark-submit-parent-7557a7a2-7c3c-478a-afe8-d0b8f3a57ce2\n",
      "\tconfs: [default]\n",
      "\t0 artifacts copied, 10 already retrieved (0kB/15ms)\n",
      "22/09/17 18:56:22 WARN NativeCodeLoader: Unable to load native-hadoop library for your platform... using builtin-java classes where applicable\n",
      "Using Spark's default log4j profile: org/apache/spark/log4j-defaults.properties\n",
      "Setting default log level to \"WARN\".\n",
      "To adjust logging level use sc.setLogLevel(newLevel). For SparkR, use setLogLevel(newLevel).\n"
     ]
    },
    {
     "name": "stdout",
     "output_type": "stream",
     "text": [
      "root\n",
      " |-- key: binary (nullable = true)\n",
      " |-- value: binary (nullable = true)\n",
      " |-- topic: string (nullable = true)\n",
      " |-- partition: integer (nullable = true)\n",
      " |-- offset: long (nullable = true)\n",
      " |-- timestamp: timestamp (nullable = true)\n",
      " |-- timestampType: integer (nullable = true)\n",
      " |-- headers: array (nullable = true)\n",
      " |    |-- element: struct (containsNull = true)\n",
      " |    |    |-- key: string (nullable = true)\n",
      " |    |    |-- value: binary (nullable = true)\n",
      "\n",
      "root\n",
      " |-- timestamp: timestamp (nullable = true)\n",
      " |-- word: string (nullable = true)\n",
      "\n"
     ]
    }
   ],
   "source": [
    "spark = SparkSession \\\n",
    "        .builder \\\n",
    "        .master(\"spark://192.168.56.110:7077\") \\\n",
    "        .config(\"spark.sql.streaming.schemaInference\", True) \\\n",
    "        .appName(\"Spark + Kafka S,P or R Count Letter\") \\\n",
    "        .getOrCreate()\n",
    "\n",
    "# Enable Arrow-based columnar data transfers\n",
    "spark.conf.set(\"spark.sql.execution.arrow.pyspark.enabled\", True)\n",
    "\n",
    "# To always shoe the results of Dataframes and improve the formatting output\n",
    "spark.conf.set(\"spark.sql.repl.eagerVal.enabled\", True)\n",
    "\n",
    "raw_df = spark \\\n",
    "    .readStream \\\n",
    "    .format(\"kafka\") \\\n",
    "    .option(\"kafka.bootstrap.servers\", \"192.168.56.110:9092\") \\\n",
    "    .option(\"subscribe\", \"quickstart-events\") \\\n",
    "    .option(\"startingOffsets\", \"earliest\") \\\n",
    "    .option(\"includeHeaders\", \"true\") \\\n",
    "    .load()\n",
    "\n",
    "raw_df.printSchema()\n",
    "\n",
    "transformed_df = raw_df.selectExpr(\"CAST(key AS STRING)\", \"CAST(value AS STRING)\", \"timestamp\")\\\n",
    "    .withColumn(\"timestamp\", col(\"timestamp\").cast(TimestampType())) \\\n",
    "    .select('timestamp', explode(split(col(\"value\"),\" \")).alias(\"word\"))\n",
    "\n",
    "transformed_df.printSchema()\n",
    "\n",
    "word_count = transformed_df"
   ]
  },
  {
   "cell_type": "code",
   "execution_count": 5,
   "id": "26fb5b21",
   "metadata": {},
   "outputs": [],
   "source": [
    "def generateWordCloud(df, df_id):\n",
    "    clear_output(wait=True)\n",
    "    \n",
    "    df = df.withColumn(\"len_word\", length(\"word\"))\n",
    "    \n",
    "    df = df.select(\"timestamp\", \"word\", \"len_word\")\n",
    "    df = df.filter((col(\"len_word\") == 6) | (col(\"len_word\") == 8) | (col(\"len_word\") == 11))\n",
    "    df = df.withColumn(\"current_timestamp\", current_timestamp())\n",
    "    df = df.groupBy(\"current_timestamp\").count()\n",
    "    \n",
    "    try:\n",
    "        pandas_df = df.toPandas()\n",
    "\n",
    "        pandas_df.to_csv('./csv/number_of_words_by_len.csv', mode='a')\n",
    "        pandas_df.plot.bar(x=\"current_timestamp\", y=\"count\", rot=0)\n",
    "\n",
    "        plt.show()\n",
    "\n",
    "    except TypeError:\n",
    "        print(\"Erro ao gerar grafico\")\n",
    "    \n",
    "    df.write.format(\"console\").save()"
   ]
  },
  {
   "cell_type": "code",
   "execution_count": null,
   "id": "e36312a7",
   "metadata": {},
   "outputs": [
    {
     "name": "stderr",
     "output_type": "stream",
     "text": [
      "                                                                                \r"
     ]
    },
    {
     "data": {
      "image/png": "[encoded data removed]",
      "text/plain": [
       "<Figure size 640x480 with 1 Axes>"
      ]
     },
     "metadata": {},
     "output_type": "display_data"
    },
    {
     "name": "stderr",
     "output_type": "stream",
     "text": [
      "22/09/17 18:57:51 WARN ProcessingTimeExecutor: Current batch is falling behind. The trigger interval is 10000 milliseconds, but spent 10705 milliseconds\n"
     ]
    },
    {
     "name": "stdout",
     "output_type": "stream",
     "text": [
      "+--------------------+-----+\n",
      "|   current_timestamp|count|\n",
      "+--------------------+-----+\n",
      "|2022-09-17 18:57:...|    1|\n",
      "+--------------------+-----+\n",
      "\n"
     ]
    }
   ],
   "source": [
    "# Read the data stream. \n",
    "try:\n",
    "    query_stream_memory = transformed_df \\\n",
    "        .writeStream \\\n",
    "        .foreachBatch(generateWordCloud) \\\n",
    "        .option(\"checkpointLocation\", \"/tmp/spark/number_of_words_by_len\") \\\n",
    "        .trigger(processingTime=\"10 seconds\") \\\n",
    "        .outputMode(\"append\") \\\n",
    "        .start() \\\n",
    "        .awaitTermination()\n",
    "except KeyboardInterrupt:\n",
    "    print(\"Finalizando streaming...\")"
   ]
  },
  {
   "cell_type": "raw",
   "id": "0dd0f6e9",
   "metadata": {},
   "source": [
    "# Stop the write Streams\n",
    "query_stream_memory.stop()\n",
    "\n",
    "# Stop the spark session\n",
    "spark.stop()"
   ]
  }
 ],
 "metadata": {
  "kernelspec": {
   "display_name": "Python 3 (ipykernel)",
   "language": "python",
   "name": "python3"
  },
  "language_info": {
   "codemirror_mode": {
    "name": "ipython",
    "version": 3
   },
   "file_extension": ".py",
   "mimetype": "text/x-python",
   "name": "python",
   "nbconvert_exporter": "python",
   "pygments_lexer": "ipython3",
   "version": "3.10.4"
  }
 },
 "nbformat": 4,
 "nbformat_minor": 5
}
